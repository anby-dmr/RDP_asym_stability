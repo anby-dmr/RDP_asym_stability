{
 "cells": [
  {
   "cell_type": "code",
   "execution_count": 8,
   "metadata": {},
   "outputs": [],
   "source": [
    "import torch\n",
    "import torch.nn as nn\n",
    "import torch.nn.functional as F\n",
    "import pdb\n",
    "from tqdm import tqdm"
   ]
  },
  {
   "cell_type": "markdown",
   "metadata": {},
   "source": [
    "# LQR"
   ]
  },
  {
   "cell_type": "code",
   "execution_count": 9,
   "metadata": {},
   "outputs": [],
   "source": [
    "# LQR formula\n",
    "# Use torch tensor to calculate the LQR\n",
    "def LQR_PF(A, B, N, Q, R, Qf, T, x0):\n",
    "    \"\"\"\n",
    "    Input:\n",
    "        A, B: system dynamics\n",
    "        Qf: terminal cost\n",
    "        Q, R: state and control cost\n",
    "        N: cross term\n",
    "        T: time horizon\n",
    "        x0: initial state\n",
    "    Return:\n",
    "        P: Riccati matrix\n",
    "        F: feedback gain\n",
    "        J: optimal cost\n",
    "    \"\"\"\n",
    "\n",
    "    P = list(range(T+1))\n",
    "    F = list(range(T))\n",
    "    P[T] = Qf\n",
    "    for t in range(T-1, -1, -1):\n",
    "        F[t] = -torch.inverse(R + B.t() @ P[t+1] @ B) @ (B.t() @ P[t+1] @ A + N.t())\n",
    "        P[t] = Q + A.t() @ P[t+1] @ A - (A.t() @ P[t+1] @ B + N) @ torch.inverse(R + B.t() @ P[t+1] @ B) @ (B.t() @ P[t+1] @ A + N.t())\n",
    "\n",
    "    J = 0\n",
    "    x = x0\n",
    "    for t in range(T):\n",
    "        u = F[t] @ x\n",
    "        if t == T-1:\n",
    "            J += x.t() @ Qf @ x\n",
    "        else:\n",
    "            J += x.t() @ Q @ x + u.t() @ R @ u + x.t() @ N @ u\n",
    "        x = A @ x + B @ u\n",
    "    \n",
    "    return P, F, J\n"
   ]
  },
  {
   "cell_type": "code",
   "execution_count": 10,
   "metadata": {},
   "outputs": [
    {
     "name": "stdout",
     "output_type": "stream",
     "text": [
      "P:\n",
      "[tensor([[1.6180]]), tensor([[1.6180]]), tensor([[1.6180]]), tensor([[1.6180]]), tensor([[1.6180]]), tensor([[1.6180]])]\n",
      "F:\n",
      "[tensor([[-0.6180]]), tensor([[-0.6180]]), tensor([[-0.6180]]), tensor([[-0.6180]]), tensor([[-0.6180]])]\n",
      "J:\n",
      "tensor([[1.6180]])\n"
     ]
    }
   ],
   "source": [
    "# Test with 1D system\n",
    "# f(x, u) = x + u\n",
    "# J = 1.618 * x_final^2 + \\sum x^2 + u^2\n",
    "# A = 1, B = 1\n",
    "# Q = 1, R = 1, Qf = 1.618, N = 0\n",
    "# T = 5\n",
    "# x0 = 1\n",
    "# Verify the result with the formula. Correct.\n",
    "\n",
    "A = torch.tensor([[1.]])\n",
    "B = torch.tensor([[1.]])\n",
    "Q = torch.tensor([[1.]])\n",
    "R = torch.tensor([[1.]])\n",
    "Qf = torch.tensor([[1.618]])\n",
    "N = torch.tensor([[0.]])\n",
    "T = 5\n",
    "x0 = torch.tensor([[1.]])\n",
    "P, F, J = LQR_PF(A, B, N, Q, R, Qf, T, x0)\n",
    "\n",
    "print(\"P:\")\n",
    "print(P)\n",
    "print(\"F:\")\n",
    "print(F)\n",
    "print(\"J:\")\n",
    "print(J)"
   ]
  },
  {
   "cell_type": "markdown",
   "metadata": {},
   "source": [
    "# MPC_simple"
   ]
  },
  {
   "cell_type": "code",
   "execution_count": 11,
   "metadata": {},
   "outputs": [
    {
     "name": "stdout",
     "output_type": "stream",
     "text": [
      "x_list:\n",
      "[tensor([[1.]]), tensor([[0.3820]], grad_fn=<AddBackward0>), tensor([[0.1459]], grad_fn=<AddBackward0>), tensor([[0.0557]], grad_fn=<AddBackward0>), tensor([[0.0213]], grad_fn=<AddBackward0>), tensor([[0.0081]], grad_fn=<AddBackward0>), tensor([[0.0031]], grad_fn=<AddBackward0>), tensor([[0.0012]], grad_fn=<AddBackward0>), tensor([[0.0005]], grad_fn=<AddBackward0>), tensor([[0.0002]], grad_fn=<AddBackward0>)]\n",
      "u_list:\n",
      "[tensor([[-0.6180]], grad_fn=<MmBackward0>), tensor([[-0.2361]], grad_fn=<MmBackward0>), tensor([[-0.0902]], grad_fn=<MmBackward0>), tensor([[-0.0344]], grad_fn=<MmBackward0>), tensor([[-0.0132]], grad_fn=<MmBackward0>), tensor([[-0.0050]], grad_fn=<MmBackward0>), tensor([[-0.0019]], grad_fn=<MmBackward0>), tensor([[-0.0007]], grad_fn=<MmBackward0>), tensor([[-0.0003]], grad_fn=<MmBackward0>), tensor([[-0.0001]], grad_fn=<MmBackward0>)]\n",
      "VN_list:\n",
      "[tensor([[1.6180]], grad_fn=<AddBackward0>), tensor([[0.2361]], grad_fn=<AddBackward0>), tensor([[0.0344]], grad_fn=<AddBackward0>), tensor([[0.0050]], grad_fn=<AddBackward0>), tensor([[0.0007]], grad_fn=<AddBackward0>), tensor([[0.0001]], grad_fn=<AddBackward0>), tensor([[1.5606e-05]], grad_fn=<AddBackward0>), tensor([[2.2768e-06]], grad_fn=<AddBackward0>), tensor([[3.3219e-07]], grad_fn=<AddBackward0>), tensor([[4.8465e-08]], grad_fn=<AddBackward0>)]\n"
     ]
    }
   ],
   "source": [
    "# Construct MPC problem\n",
    "# Use float32\n",
    "\n",
    "DTYPES = torch.float32\n",
    "torch.set_default_dtype(DTYPES)\n",
    "MPC_T = 10\n",
    "A = torch.tensor([[1.]])\n",
    "B = torch.tensor([[1.]])\n",
    "Q = torch.tensor([[1.]])\n",
    "R = torch.tensor([[1.]])\n",
    "Qf = nn.Parameter(torch.tensor([[1.618]]))\n",
    "N = torch.tensor([[0.]])\n",
    "T = 5\n",
    "nx = 1\n",
    "nu = 1\n",
    "\n",
    "x_init = torch.tensor([[1.]])\n",
    "x = x_init\n",
    "\n",
    "x_list = []\n",
    "u_list = []\n",
    "VN_list = []\n",
    "for i in range(MPC_T):\n",
    "    P, F, J = LQR_PF(A, B, N, Q, R, Qf, T, x)\n",
    "    u = F[0] @ x\n",
    "    x_list.append(x)\n",
    "    u_list.append(u)\n",
    "    x = A @ x + B @ u\n",
    "    VN_list.append(J)\n",
    "\n",
    "print('x_list:')\n",
    "print(x_list)\n",
    "print('u_list:')\n",
    "print(u_list)\n",
    "print('VN_list:')\n",
    "print(VN_list)"
   ]
  },
  {
   "cell_type": "markdown",
   "metadata": {},
   "source": [
    "## RDP"
   ]
  },
  {
   "cell_type": "code",
   "execution_count": 12,
   "metadata": {},
   "outputs": [
    {
     "name": "stdout",
     "output_type": "stream",
     "text": [
      "tensor([[6.5484e-05]], grad_fn=<AddBackward0>)\n",
      "tensor([[-453.1076]])\n"
     ]
    }
   ],
   "source": [
    "# Train the cost function use RDP method\n",
    "\n",
    "def cost(x, u, is_terminal):\n",
    "    if is_terminal:\n",
    "        return x.t() @ Qf @ x\n",
    "    else:\n",
    "        return x.t() @ Q @ x + u.t() @ R @ u\n",
    "\n",
    "def cal_RDP_criteria(VN_list, x_list, u_list, alpha, MPC_T, func):\n",
    "    \"\"\"\n",
    "    Input:\n",
    "        VN_list: list of the cost function value\n",
    "        x_list: list of the state\n",
    "        u_list: list of the control\n",
    "        cost_nn: the cost function\n",
    "        alpha: the weight of the RDP criteria\n",
    "    Return:\n",
    "        RDP criteria\n",
    "    \"\"\"\n",
    "    loss = 0\n",
    "    for i in range(MPC_T - 1):\n",
    "        RDP = (VN_list[i+1] + alpha * cost(x_list[i], u_list[i], False)) - VN_list[i] # Wish RDP <= 0\n",
    "        loss += func(RDP)\n",
    "    return loss\n",
    "\n",
    "loss = cal_RDP_criteria(VN_list, x_list, u_list, 1, MPC_T, lambda x: torch.tanh(1000000 * x))\n",
    "print(loss)\n",
    "loss.backward()\n",
    "print(Qf.grad)"
   ]
  },
  {
   "cell_type": "markdown",
   "metadata": {},
   "source": [
    "# Large Scale test"
   ]
  },
  {
   "cell_type": "code",
   "execution_count": 14,
   "metadata": {},
   "outputs": [
    {
     "name": "stderr",
     "output_type": "stream",
     "text": [
      "100%|██████████| 100/100 [00:01<00:00, 52.31it/s]\n"
     ]
    },
    {
     "name": "stdout",
     "output_type": "stream",
     "text": [
      "tensor([[-1792.8451]])\n"
     ]
    }
   ],
   "source": [
    "# Construct MPC problem\n",
    "# Use float32\n",
    "\n",
    "DTYPES = torch.float32\n",
    "torch.set_default_dtype(DTYPES)\n",
    "MPC_T = 10\n",
    "A = torch.tensor([[1.]])\n",
    "B = torch.tensor([[1.]])\n",
    "Q = torch.tensor([[1.]])\n",
    "R = torch.tensor([[1.]])\n",
    "Qf = nn.Parameter(torch.tensor([[1.630]]))\n",
    "N = torch.tensor([[0.]])\n",
    "T = 5\n",
    "nx = 1\n",
    "nu = 1\n",
    "\n",
    "n_epoch = 100\n",
    "\n",
    "loss = 0\n",
    "for epoch in tqdm(range(n_epoch)):\n",
    "    x_init = torch.randn(1, 1) * 10\n",
    "    x = x_init\n",
    "\n",
    "    x_list = []\n",
    "    u_list = []\n",
    "    VN_list = []\n",
    "    for i in range(MPC_T):\n",
    "        P, F, J = LQR_PF(A, B, N, Q, R, Qf, T, x)\n",
    "        u = F[0] @ x\n",
    "        x_list.append(x)\n",
    "        u_list.append(u)\n",
    "        x = A @ x + B @ u\n",
    "        VN_list.append(J)\n",
    "    \n",
    "    loss += cal_RDP_criteria(VN_list, x_list, u_list, 1, MPC_T, lambda x: torch.tanh(1000 * x))\n",
    "\n",
    "loss.backward()\n",
    "print(Qf.grad)"
   ]
  },
  {
   "cell_type": "code",
   "execution_count": null,
   "metadata": {},
   "outputs": [],
   "source": []
  }
 ],
 "metadata": {
  "kernelspec": {
   "display_name": "graduation_test",
   "language": "python",
   "name": "python3"
  },
  "language_info": {
   "codemirror_mode": {
    "name": "ipython",
    "version": 3
   },
   "file_extension": ".py",
   "mimetype": "text/x-python",
   "name": "python",
   "nbconvert_exporter": "python",
   "pygments_lexer": "ipython3",
   "version": "3.8.20"
  }
 },
 "nbformat": 4,
 "nbformat_minor": 2
}
