{
 "cells": [
  {
   "cell_type": "code",
   "execution_count": 2,
   "metadata": {
    "collapsed": true
   },
   "outputs": [],
   "source": [
    "import torch\n",
    "from torch.autograd import Variable\n",
    "from mpc import mpc\n",
    "from mpc.mpc import QuadCost, LinDx"
   ]
  },
  {
   "cell_type": "code",
   "execution_count": null,
   "metadata": {},
   "outputs": [],
   "source": [
    "torch.manual_seed(0)\n",
    "\n",
    "n_batch, n_state, n_ctrl, T = 1, 1, 1, 20\n",
    "n_sc = n_state + n_ctrl\n",
    "\n",
    "# Randomly initialize a PSD quadratic cost and linear dynamics.\n",
    "# 在毕设中，损失函数是由神经网络表示的 x^T net(x) x + 2 c^T x\n",
    "C = torch.randn(T*n_batch, n_sc, n_sc) # shape (T*n_batch, n_sc, n_sc)\n",
    "C = torch.bmm(C, C.transpose(1, 2)).view(T, n_batch, n_sc, n_sc) # shape (T, n_batch, n_sc, n_sc) # 二次项损失\n",
    "c = torch.randn(T, n_batch, n_sc) # 一次项损失\n",
    "\n",
    "alpha = 0.2\n",
    "R = (torch.eye(n_state)+alpha*torch.randn(n_state, n_state)).repeat(T, n_batch, 1, 1) # shape (T, n_batch, n_state, n_state)\n",
    "S = torch.randn(T, n_batch, n_state, n_ctrl) # shape (T, n_batch, n_state, n_ctrl)\n",
    "F = torch.cat((R, S), dim=3) # shape (T, n_batch, n_state, n_sc) 系统方程， 在毕设中，使用的是生成模型\n",
    "\n",
    "# The initial state.\n",
    "x_init = torch.randn(n_batch, n_state)\n",
    "\n",
    "# The upper and lower control bounds.\n",
    "u_lower = -torch.rand(T, n_batch, n_ctrl)\n",
    "u_upper = torch.rand(T, n_batch, n_ctrl)\n",
    "\n",
    "x_lqr, u_lqr, objs_lqr = mpc.MPC(\n",
    "    n_state=n_state,\n",
    "    n_ctrl=n_ctrl,\n",
    "    T=T,\n",
    "    u_lower=u_lower, \n",
    "    u_upper=u_upper,\n",
    "    lqr_iter=20,\n",
    "    verbose=1,\n",
    "    backprop=False,\n",
    "    exit_unconverged=False, # 因为是LQR，所以基本上认为是收敛的\n",
    ")(x_init, QuadCost(C, c), LinDx(F))"
   ]
  },
  {
   "cell_type": "code",
   "execution_count": null,
   "metadata": {},
   "outputs": [],
   "source": [
    "# 模拟LQR的结果\n",
    "# only works for batch_size = 1\n",
    "cost = 0\n",
    "x = x_init\n",
    "print(x_init)\n",
    "\n",
    "n_sc_lqr = torch.cat((x_lqr, u_lqr), dim=2)\n",
    "\n",
    "cost_list = []\n",
    "\n",
    "for i in range(T):\n",
    "    n_sc_i = n_sc_lqr[i].squeeze()\n",
    "    C_i = C[i].squeeze()\n",
    "    # cost\n",
    "    cost += 0.5 * n_sc_i @ C_i @ n_sc_i + c[i] @ n_sc_i\n",
    "    cost_list.append(cost.item())\n",
    "    # dynamics\n",
    "    x = F[i].squeeze() @ n_sc_i\n",
    "    print(f'x{i}_next: {x}')\n",
    "\n",
    "# plot the cost\n",
    "import matplotlib.pyplot as plt\n",
    "plt.plot(cost_list)\n",
    "\n",
    "# plot the state trajectory\n",
    "x_plot = x_lqr.squeeze(1).detach().numpy()\n",
    "plt.figure()\n",
    "plt.plot(x_plot[:, 0], x_plot[:, 1])"
   ]
  },
  {
   "cell_type": "code",
   "execution_count": null,
   "metadata": {},
   "outputs": [],
   "source": []
  }
 ],
 "metadata": {
  "kernelspec": {
   "display_name": "graduation",
   "language": "python",
   "name": "python3"
  },
  "language_info": {
   "codemirror_mode": {
    "name": "ipython",
    "version": 3
   },
   "file_extension": ".py",
   "mimetype": "text/x-python",
   "name": "python",
   "nbconvert_exporter": "python",
   "pygments_lexer": "ipython3",
   "version": "3.8.20"
  }
 },
 "nbformat": 4,
 "nbformat_minor": 2
}
